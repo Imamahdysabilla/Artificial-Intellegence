{
  "nbformat": 4,
  "nbformat_minor": 0,
  "metadata": {
    "colab": {
      "provenance": [],
      "authorship_tag": "ABX9TyN9nCPukrCXNj/fHzIODu+r",
      "include_colab_link": true
    },
    "kernelspec": {
      "name": "python3",
      "display_name": "Python 3"
    },
    "language_info": {
      "name": "python"
    }
  },
  "cells": [
    {
      "cell_type": "markdown",
      "metadata": {
        "id": "view-in-github",
        "colab_type": "text"
      },
      "source": [
        "<a href=\"https://colab.research.google.com/github/Imamahdysabilla/Artificial-Intellegence/blob/main/Imam_Ahdy_Sabilla_2217051141_A_UAP_Responsi_AI.ipynb\" target=\"_parent\"><img src=\"https://colab.research.google.com/assets/colab-badge.svg\" alt=\"Open In Colab\"/></a>"
      ]
    },
    {
      "cell_type": "markdown",
      "source": [
        "#Tema 1: Menentukan Masuk Perguruan Tinggi\n",
        "\n",
        "Sebagai seorang siswa kelas 12 yang ingin melanjutkan studi ke jenjang perguruan tinggi, saya akan menggunakan metode Analytic Hierarchy Process (AHP) untuk menentukan pilihan universitas terbaik. Berikut langkah-langkah yang akan saya lakukan"
      ],
      "metadata": {
        "id": "OauunR7qbenD"
      }
    },
    {
      "cell_type": "markdown",
      "source": [
        "#Menentukan kriteria:\n",
        "Empat kriteria utama yang penting dalam memilih universitas:\n",
        "\n",
        "1.Reputasi Akademik: Kualitas pendidikan dan pengakuan internasional\n",
        "\n",
        "2.Fasilitas dan Infrastruktur: Ketersediaan fasilitas pendukung belajar seperti laboratorium, perpustakaan, dan teknologi\n",
        "\n",
        "3.Lokasi dan Lingkungan: Kemudahan akses, keamanan, dan kenyamanan lingkungan sekitar kampus\n",
        "\n",
        "4.Biaya Pendidikan: Total biaya yang diperlukan termasuk uang kuliah, akomodasi, dan biaya hidup"
      ],
      "metadata": {
        "id": "SC4WMBDEbpz7"
      }
    },
    {
      "cell_type": "markdown",
      "source": [],
      "metadata": {
        "id": "s-SgnNnjcQnp"
      }
    },
    {
      "cell_type": "markdown",
      "source": [
        "#Menentukan Alternatif\n",
        "Empat universitas sebagai alternatif pilihan:\n",
        "\n",
        "Universitas Indonesia (UI)\n",
        "\n",
        "Institut Teknologi Bandung (ITB)\n",
        "\n",
        "Universitas Gadjah Mada (UGM)\n",
        "\n",
        "Universitas Airlangga (UNAIR)"
      ],
      "metadata": {
        "id": "0SADbN7afZpt"
      }
    },
    {
      "cell_type": "markdown",
      "source": [
        "#Membuat Hierarki AHP:\n",
        "\n",
        "Menyusun hierarki AHP dengan tujuan di puncak, diikuti oleh kriteria di tingkat kedua, dan alternatif di tingkat ketiga.\n",
        "\n"
      ],
      "metadata": {
        "id": "RDfIG8hHgG66"
      }
    },
    {
      "cell_type": "markdown",
      "source": [
        "#Menghitung Bobot dan Konsistensi\n",
        "menghitung bobot dari setiap kriteria dan alternatif serta memeriksa konsistensi matriks menggunakan Rasio Konsistensi (CR). CR yang valid harus kurang dari 0.1."
      ],
      "metadata": {
        "id": "yhvZ4tgIg-CC"
      }
    },
    {
      "cell_type": "markdown",
      "source": [
        "#Menggabungkan Bobot\n",
        "menggabungkan bobot kriteria dan alternatif untuk mendapatkan skor akhir untuk setiap universitas."
      ],
      "metadata": {
        "id": "6MTh5jMxiiu-"
      }
    },
    {
      "cell_type": "markdown",
      "source": [
        "Import Library"
      ],
      "metadata": {
        "id": "NSc1ezsbjZOT"
      }
    },
    {
      "cell_type": "code",
      "source": [
        "!pip install numpy scipy\n",
        "import numpy as np\n",
        "from scipy.linalg import eig"
      ],
      "metadata": {
        "colab": {
          "base_uri": "https://localhost:8080/"
        },
        "id": "14Ql3pwDjEWM",
        "outputId": "c770e963-083e-4ddb-efd5-07c41f8dbad9"
      },
      "execution_count": 1,
      "outputs": [
        {
          "output_type": "stream",
          "name": "stdout",
          "text": [
            "Requirement already satisfied: numpy in /usr/local/lib/python3.10/dist-packages (1.25.2)\n",
            "Requirement already satisfied: scipy in /usr/local/lib/python3.10/dist-packages (1.11.4)\n"
          ]
        }
      ]
    },
    {
      "cell_type": "markdown",
      "source": [
        "Kriteria Dan Alternatif"
      ],
      "metadata": {
        "id": "TCk3689ij8NY"
      }
    },
    {
      "cell_type": "code",
      "source": [
        "kriteria = ['Reputasi Akademik', 'Fasilitas & Infrastruktur', 'Lokasi & Lingkungan', 'Biaya Pendidikan']\n",
        "alternatif = ['UI', 'ITB', 'UGM', 'UNAIR']"
      ],
      "metadata": {
        "id": "EzPkHF0AkAHI"
      },
      "execution_count": 2,
      "outputs": []
    },
    {
      "cell_type": "markdown",
      "source": [
        "Matriks perbandingan berpasangan untuk kriteria"
      ],
      "metadata": {
        "id": "U4BZOFO1kJL3"
      }
    },
    {
      "cell_type": "code",
      "source": [
        "matriks_kriteria = np.array([\n",
        "    [1, 3, 5, 7],\n",
        "    [1/3, 1, 3, 5],\n",
        "    [1/5, 1/3, 1, 3],\n",
        "    [1/7, 1/5, 1/3, 1]\n",
        "])"
      ],
      "metadata": {
        "id": "tXzf-P0qkSi2"
      },
      "execution_count": 3,
      "outputs": []
    },
    {
      "cell_type": "markdown",
      "source": [
        "\n",
        "Matriks Perbandingan Berpasangan untuk Setiap Alternatif Berdasarkan Kriteria"
      ],
      "metadata": {
        "id": "qVqqL8Pzkeok"
      }
    },
    {
      "cell_type": "code",
      "source": [
        "matriks_alternatif = {\n",
        "    'Reputasi Akademik': np.array([\n",
        "        [1, 3, 5, 7],\n",
        "        [1/3, 1, 3, 5],\n",
        "        [1/5, 1/3, 1, 3],\n",
        "        [1/7, 1/5, 1/3, 1]\n",
        "    ]),\n",
        "    'Fasilitas & Infrastruktur': np.array([\n",
        "        [1, 3, 5, 7],\n",
        "        [1/3, 1, 3, 5],\n",
        "        [1/5, 1/3, 1, 3],\n",
        "        [1/7, 1/5, 1/3, 1]\n",
        "    ]),\n",
        "    'Lokasi & Lingkungan': np.array([\n",
        "        [1, 3, 5, 7],\n",
        "        [1/3, 1, 3, 5],\n",
        "        [1/5, 1/3, 1, 3],\n",
        "        [1/7, 1/5, 1/3, 1]\n",
        "    ]),\n",
        "    'Biaya Pendidikan': np.array([\n",
        "        [1, 3, 5, 7],\n",
        "        [1/3, 1, 3, 5],\n",
        "        [1/5, 1/3, 1, 3],\n",
        "        [1/7, 1/5, 1/3, 1]\n",
        "    ])\n",
        "}\n"
      ],
      "metadata": {
        "id": "6uPyVr2GkgVd"
      },
      "execution_count": 4,
      "outputs": []
    },
    {
      "cell_type": "markdown",
      "source": [
        "Fungsi untuk menghitung bobot dan rasio konsistensi"
      ],
      "metadata": {
        "id": "6rhIjFSsk12l"
      }
    },
    {
      "cell_type": "code",
      "source": [
        "# Fungsi untuk menghitung bobot dan rasio konsistensi\n",
        "def hitung_bobot_konsistensi(matriks):\n",
        "    # Menghitung nilai eigen dan vektor eigen\n",
        "    eigval, eigvec = eig(matriks)\n",
        "    max_eigval = np.max(eigval).real\n",
        "    eigvec = eigvec[:, np.argmax(eigval)].real\n",
        "    bobot = eigvec / np.sum(eigvec)\n",
        "\n",
        "    # Konsistensi\n",
        "    n = matriks.shape[0]\n",
        "    CI = (max_eigval - n) / (n - 1)\n",
        "    RI = [0, 0, 0.58, 0.9, 1.12, 1.24, 1.32, 1.41, 1.45]\n",
        "    CR = CI / RI[n-1]\n",
        "\n",
        "    return bobot, CR\n",
        "\n",
        "bobot_kriteria, CR_kriteria = hitung_bobot_konsistensi(matriks_kriteria)\n",
        "print(f'Bobot Kriteria: {bobot_kriteria}')\n",
        "print(f'Rasio Konsistensi Kriteria: {CR_kriteria}')\n",
        "bobot_alternatif = {}\n",
        "for k in kriteria:\n",
        "    bobot_alternatif[k], CR = hitung_bobot_konsistensi(matriks_alternatif[k])\n",
        "    print(f'Bobot Alternatif berdasarkan {k}: {bobot_alternatif[k]}')\n",
        "    print(f'Rasio Konsistensi Alternatif {k}: {CR}')\n",
        "skor_akhir = np.zeros(len(alternatif))\n",
        "for i, k in enumerate(kriteria):\n",
        "    skor_akhir += bobot_kriteria[i] * bobot_alternatif[k]\n",
        "\n",
        "print(f'Skor Akhir: {skor_akhir}')\n",
        "\n"
      ],
      "metadata": {
        "colab": {
          "base_uri": "https://localhost:8080/"
        },
        "id": "sBAziuvSk2vq",
        "outputId": "a26de291-b66c-4859-c0e6-9ed29615e17b"
      },
      "execution_count": 12,
      "outputs": [
        {
          "output_type": "stream",
          "name": "stdout",
          "text": [
            "Bobot Kriteria: [0.56500905 0.26220121 0.11750425 0.05528549]\n",
            "Rasio Konsistensi Kriteria: 0.0433268309063957\n",
            "Bobot Alternatif berdasarkan Reputasi Akademik: [0.56500905 0.26220121 0.11750425 0.05528549]\n",
            "Rasio Konsistensi Alternatif Reputasi Akademik: 0.0433268309063957\n",
            "Bobot Alternatif berdasarkan Fasilitas & Infrastruktur: [0.56500905 0.26220121 0.11750425 0.05528549]\n",
            "Rasio Konsistensi Alternatif Fasilitas & Infrastruktur: 0.0433268309063957\n",
            "Bobot Alternatif berdasarkan Lokasi & Lingkungan: [0.56500905 0.26220121 0.11750425 0.05528549]\n",
            "Rasio Konsistensi Alternatif Lokasi & Lingkungan: 0.0433268309063957\n",
            "Bobot Alternatif berdasarkan Biaya Pendidikan: [0.56500905 0.26220121 0.11750425 0.05528549]\n",
            "Rasio Konsistensi Alternatif Biaya Pendidikan: 0.0433268309063957\n",
            "Skor Akhir: [0.56500905 0.26220121 0.11750425 0.05528549]\n"
          ]
        }
      ]
    },
    {
      "cell_type": "markdown",
      "source": [
        "Menentukan Univeritas Terbaik"
      ],
      "metadata": {
        "id": "atUE_fTaoKS3"
      }
    },
    {
      "cell_type": "code",
      "source": [
        "index_terbaik = np.argmax(skor_akhir)\n",
        "universitas_terbaik = alternatif[index_terbaik]\n",
        "print(f'Universitas Terbaik: {universitas_terbaik}')"
      ],
      "metadata": {
        "colab": {
          "base_uri": "https://localhost:8080/"
        },
        "id": "niHzu-1toGuQ",
        "outputId": "8a5f10ce-cb7d-4843-dc35-6ac5d4b2c636"
      },
      "execution_count": 13,
      "outputs": [
        {
          "output_type": "stream",
          "name": "stdout",
          "text": [
            "Universitas Terbaik: UI\n"
          ]
        }
      ]
    },
    {
      "cell_type": "markdown",
      "source": [
        "#Kesimpulan\n",
        "Berdasarkan analisis menggunakan metode Analytic Hierarchy Process (AHP), yang mempertimbangkan kriteria seperti reputasi akademik, fasilitas dan infrastruktur, lokasi dan lingkungan, serta biaya pendidikan, Universitas Indonesia (UI) muncul sebagai pilihan terbaik untuk melanjutkan studi. Perhitungan menunjukkan bahwa UI memiliki skor tertinggi dalam semua kriteria dibandingkan dengan alternatif lainnya, yaitu Institut Teknologi Bandung (ITB), Universitas Gadjah Mada (UGM), dan Universitas Airlangga (UNAIR). Dengan bobot dan rasio konsistensi yang valid, UI terbukti menjadi universitas dengan nilai unggul, menjadikannya rekomendasi utama untuk jenjang pendidikan berikutnya."
      ],
      "metadata": {
        "id": "z3D9I5eToRL2"
      }
    }
  ]
}