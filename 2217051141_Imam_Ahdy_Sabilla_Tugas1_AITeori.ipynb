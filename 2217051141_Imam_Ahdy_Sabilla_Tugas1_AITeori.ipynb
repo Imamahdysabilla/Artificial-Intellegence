{
  "nbformat": 4,
  "nbformat_minor": 0,
  "metadata": {
    "colab": {
      "provenance": [],
      "authorship_tag": "ABX9TyNP31pG4rOGKX0eqUK4HnJb",
      "include_colab_link": true
    },
    "kernelspec": {
      "name": "python3",
      "display_name": "Python 3"
    },
    "language_info": {
      "name": "python"
    }
  },
  "cells": [
    {
      "cell_type": "markdown",
      "metadata": {
        "id": "view-in-github",
        "colab_type": "text"
      },
      "source": [
        "<a href=\"https://colab.research.google.com/github/Imamahdysabilla/Artificial-Intellegence/blob/main/2217051141_Imam_Ahdy_Sabilla_Tugas1_AITeori.ipynb\" target=\"_parent\"><img src=\"https://colab.research.google.com/assets/colab-badge.svg\" alt=\"Open In Colab\"/></a>"
      ]
    },
    {
      "cell_type": "markdown",
      "source": [
        "# Soal:\n",
        "\n",
        "Sebuah perusahaan ingin memilih kandidat terbaik untuk posisi manajer proyek berdasarkan beberapa kriteria. Berikut adalah data kandidat dan kriteria penilaian yang digunakan:\n",
        "\n",
        "1. **Pengalaman Kerja (tahun)** - Bobot: 0.4\n",
        "2. **Pendidikan (skala 1-5)** - Bobot: 0.3\n",
        "3. **Kemampuan Teknis (skala 1-10)** - Bobot: 0.2\n",
        "4. **Kemampuan Manajerial (skala 1-10)** - Bobot: 0.1\n",
        "\n",
        "Berikut adalah data para kandidat:\n",
        "\n",
        "| Kandidat | Pengalaman Kerja | Pendidikan | Kemampuan Teknis | Kemampuan Manajerial |\n",
        "|----------|------------------|------------|------------------|----------------------|\n",
        "| A        | 10               | 4          | 8                | 7                    |\n",
        "| B        | 7                | 5          | 9                | 6                    |\n",
        "| C        | 5                | 3          | 6                | 8                    |\n",
        "| D        | 8                | 4          | 7                | 9                    |\n",
        "\n",
        "\n"
      ],
      "metadata": {
        "id": "i7oTCiOUH34u"
      }
    },
    {
      "cell_type": "code",
      "execution_count": 3,
      "metadata": {
        "id": "xqQKa8xLG-6x"
      },
      "outputs": [],
      "source": [
        "import numpy as np\n",
        "\n",
        "# Data kandidat\n",
        "kandidat = {\n",
        "    \"A\": [10, 4, 8, 7],\n",
        "    \"B\": [7, 5, 9, 6],\n",
        "    \"C\": [5, 3, 6, 8],\n",
        "    \"D\": [8, 4, 7, 9]\n",
        "}\n",
        "\n",
        "# Bobot kriteria\n",
        "bobot = [0.4, 0.3, 0.2, 0.1]"
      ]
    },
    {
      "cell_type": "markdown",
      "source": [
        "menyimpan data kandidat dalam sebuah dictionary di mana kunci adalah nama kandidat dan nilai adalah list dari nilai kriteria.\n",
        "Bobot untuk tiap kriteria disimpan dalam list bobot."
      ],
      "metadata": {
        "id": "19xJMk1rKpnB"
      }
    },
    {
      "cell_type": "code",
      "source": [
        "# Normalisasi matriks keputusan\n",
        "def normalisasi_matriks(data):\n",
        "    matriks = np.array(list(data.values()))\n",
        "    norm_matriks = matriks / matriks.max(axis=0)\n",
        "    return norm_matriks"
      ],
      "metadata": {
        "id": "90SF_gWeJ0N-"
      },
      "execution_count": 4,
      "outputs": []
    },
    {
      "cell_type": "markdown",
      "source": [
        "Fungsi normalisasi_matriks digunakan untuk menormalisasi nilai kriteria masing-masing kandidat. Nilai setiap kriteria dibagi dengan nilai maksimum dari kriteria tersebut untuk mendapatkan nilai normalisasi."
      ],
      "metadata": {
        "id": "eulPLFSvJ1pu"
      }
    },
    {
      "cell_type": "code",
      "source": [
        "# Hitung skor SAW\n",
        "def hitung_saw(data, bobot):\n",
        "    norm_matriks = normalisasi_matriks(data)\n",
        "    skor = np.dot(norm_matriks, bobot)\n",
        "    return skor"
      ],
      "metadata": {
        "id": "p178tOURJ_LJ"
      },
      "execution_count": 5,
      "outputs": []
    },
    {
      "cell_type": "markdown",
      "source": [
        "Fungsi hitung_saw mengalikan matriks normalisasi dengan bobot kriteria untuk mendapatkan skor akhir tiap kandidat.\n"
      ],
      "metadata": {
        "id": "2xTE5Sv1KGZG"
      }
    },
    {
      "cell_type": "code",
      "source": [
        "# Mencari kandidat terbaik\n",
        "def kandidat_terbaik(data, bobot):\n",
        "    skor = hitung_saw(data, bobot)\n",
        "    kandidat_list = list(data.keys())\n",
        "    skor_kandidat = dict(zip(kandidat_list, skor))\n",
        "    terbaik = max(skor_kandidat, key=skor_kandidat.get)\n",
        "    return terbaik, skor_kandidat"
      ],
      "metadata": {
        "id": "1ic6XDkKKQVE"
      },
      "execution_count": 6,
      "outputs": []
    },
    {
      "cell_type": "markdown",
      "source": [
        "Fungsi kandidat_terbaik menghitung skor untuk tiap kandidat dan menentukan kandidat dengan skor tertinggi."
      ],
      "metadata": {
        "id": "TkFV0ojUKXqM"
      }
    },
    {
      "cell_type": "code",
      "source": [
        "# Hasil\n",
        "terbaik, skor_kandidat = kandidat_terbaik(kandidat, bobot)\n",
        "\n",
        "# Print hasil\n",
        "print(\"Skor tiap kandidat:\")\n",
        "for k, v in skor_kandidat.items():\n",
        "    print(f\"Kandidat {k}: {v:.4f}\")\n",
        "\n",
        "print(f\"\\nKandidat terbaik adalah {terbaik} dengan skor {skor_kandidat[terbaik]:.4f}\")"
      ],
      "metadata": {
        "colab": {
          "base_uri": "https://localhost:8080/"
        },
        "id": "pl1EuSVVKfJt",
        "outputId": "448bf757-75be-474b-856c-38ebf6af58ab"
      },
      "execution_count": 7,
      "outputs": [
        {
          "output_type": "stream",
          "name": "stdout",
          "text": [
            "Skor tiap kandidat:\n",
            "Kandidat A: 0.8956\n",
            "Kandidat B: 0.8467\n",
            "Kandidat C: 0.6022\n",
            "Kandidat D: 0.8156\n",
            "\n",
            "Kandidat terbaik adalah A dengan skor 0.8956\n"
          ]
        }
      ]
    }
  ]
}